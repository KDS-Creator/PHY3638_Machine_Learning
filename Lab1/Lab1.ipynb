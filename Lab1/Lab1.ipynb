{
  "nbformat": 4,
  "nbformat_minor": 0,
  "metadata": {
    "colab": {
      "provenance": [],
      "authorship_tag": "ABX9TyO3GwZjzKT915hKxAhH7PKq",
      "include_colab_link": true
    },
    "kernelspec": {
      "name": "python3",
      "display_name": "Python 3"
    },
    "language_info": {
      "name": "python"
    }
  },
  "cells": [
    {
      "cell_type": "markdown",
      "metadata": {
        "id": "view-in-github",
        "colab_type": "text"
      },
      "source": [
        "<a href=\"https://colab.research.google.com/github/KDS-Creator/PHY3638_Machine_Learning/blob/main/Lab1/Lab1.ipynb\" target=\"_parent\"><img src=\"https://colab.research.google.com/assets/colab-badge.svg\" alt=\"Open In Colab\"/></a>"
      ]
    },
    {
      "cell_type": "markdown",
      "source": [
        "**Activity 2**: PLay with text file in python"
      ],
      "metadata": {
        "id": "1z6xJqkaLzl7"
      }
    },
    {
      "cell_type": "code",
      "execution_count": 1,
      "metadata": {
        "colab": {
          "base_uri": "https://localhost:8080/"
        },
        "id": "stGEWUoXLe8d",
        "outputId": "4c3b7ce0-e0af-433c-ce73-66d8de417bc5"
      },
      "outputs": [
        {
          "output_type": "stream",
          "name": "stdout",
          "text": [
            "This is an example text file.\n"
          ]
        }
      ],
      "source": [
        "# Read file\n",
        "with open(\"a.txt\", \"r\") as f:\n",
        "  for line in f:\n",
        "    print(line)"
      ]
    },
    {
      "cell_type": "code",
      "source": [
        "# Write to file\n",
        "with open(\"b.txt\", \"w\") as f:\n",
        "  f.write(\"hello world!\")\n",
        "\n",
        "with open(\"b.txt\", \"r\") as f:\n",
        "  contents = f.read()\n",
        "\n",
        "print(contents)"
      ],
      "metadata": {
        "colab": {
          "base_uri": "https://localhost:8080/"
        },
        "id": "UiV4-RlQME9-",
        "outputId": "3ebe3ec9-1594-4ad9-be40-408c4d2cfd15"
      },
      "execution_count": 2,
      "outputs": [
        {
          "output_type": "stream",
          "name": "stdout",
          "text": [
            "hello world!\n"
          ]
        }
      ]
    },
    {
      "cell_type": "code",
      "source": [
        "with open(\"b.txt\", \"a\") as f:\n",
        "  f.write(\"\\nHello again!\")\n",
        "\n",
        "with open(\"b.txt\", \"r\") as f:\n",
        "  contents = f.read()\n",
        "\n",
        "print(contents)"
      ],
      "metadata": {
        "colab": {
          "base_uri": "https://localhost:8080/"
        },
        "id": "Re9HfwG3MUff",
        "outputId": "b7474d2e-339f-48a1-cf27-875d790f85f5"
      },
      "execution_count": 3,
      "outputs": [
        {
          "output_type": "stream",
          "name": "stdout",
          "text": [
            "hello world!\n",
            "Hello again!\n"
          ]
        }
      ]
    },
    {
      "cell_type": "code",
      "source": [
        "# delete file\n",
        "import os\n",
        "\n",
        "os.remove(\"b.txt\")"
      ],
      "metadata": {
        "id": "nM9DfijeMkcd"
      },
      "execution_count": 4,
      "outputs": []
    },
    {
      "cell_type": "code",
      "source": [
        "# Open file to write and read\n",
        "with open(\"b.txt\", \"w+\") as f:\n",
        "  f.write(\"hello world\")\n",
        "  # Close file\n",
        "  f.close()"
      ],
      "metadata": {
        "id": "cg5uiTB3Mpm_"
      },
      "execution_count": 5,
      "outputs": []
    },
    {
      "cell_type": "code",
      "source": [
        "with open(\"b.txt\", \"a+\") as f:\n",
        "  # add content to the end of file\n",
        "  f.write(\"hello again!\")\n",
        "  # Close file\n",
        "  f.close()"
      ],
      "metadata": {
        "id": "Uz-P15jYM3gb"
      },
      "execution_count": 6,
      "outputs": []
    },
    {
      "cell_type": "code",
      "source": [
        "with open(\"a.txt\", \"r+\") as f:\n",
        "  # Read file\n",
        "  contents = f.read()\n",
        "  # Add more content in head of file\n",
        "  f.write(\"\\n\")\n",
        "  f.write(\"New content\")\n",
        "  # Close file\n",
        "  f.close()"
      ],
      "metadata": {
        "id": "HITSnbGqNEYJ"
      },
      "execution_count": 7,
      "outputs": []
    },
    {
      "cell_type": "code",
      "source": [],
      "metadata": {
        "id": "xrmcnQm_Nr29"
      },
      "execution_count": null,
      "outputs": []
    }
  ]
}