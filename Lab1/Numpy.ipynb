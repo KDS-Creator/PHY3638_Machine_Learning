{
  "nbformat": 4,
  "nbformat_minor": 0,
  "metadata": {
    "colab": {
      "provenance": [],
      "authorship_tag": "ABX9TyOqag07tOxCu6MXT46HJDLS",
      "include_colab_link": true
    },
    "kernelspec": {
      "name": "python3",
      "display_name": "Python 3"
    },
    "language_info": {
      "name": "python"
    }
  },
  "cells": [
    {
      "cell_type": "markdown",
      "metadata": {
        "id": "view-in-github",
        "colab_type": "text"
      },
      "source": [
        "<a href=\"https://colab.research.google.com/github/KDS-Creator/PHY3638_Machine_Learning/blob/main/Lab1/Numpy.ipynb\" target=\"_parent\"><img src=\"https://colab.research.google.com/assets/colab-badge.svg\" alt=\"Open In Colab\"/></a>"
      ]
    },
    {
      "cell_type": "code",
      "execution_count": 1,
      "metadata": {
        "id": "wzrQhgmoQ5Re"
      },
      "outputs": [],
      "source": [
        "# Import Library\n",
        "import numpy as np"
      ]
    },
    {
      "cell_type": "markdown",
      "source": [
        "# Common Attribute"
      ],
      "metadata": {
        "id": "Hi818OzOR85F"
      }
    },
    {
      "cell_type": "code",
      "source": [
        "data = np.array([7, 2, 9, 10])\n",
        "\n",
        "print(data)\n",
        "print(data.shape)\n",
        "print(data.size)\n",
        "print(data.dtype)\n",
        "print(data.nbytes)\n",
        "print(data.ndim)"
      ],
      "metadata": {
        "colab": {
          "base_uri": "https://localhost:8080/"
        },
        "id": "5snmbvhARBgs",
        "outputId": "90f6bb9c-720f-406a-bf85-675f7e4df1d8"
      },
      "execution_count": 2,
      "outputs": [
        {
          "output_type": "stream",
          "name": "stdout",
          "text": [
            "[ 7  2  9 10]\n",
            "(4,)\n",
            "4\n",
            "int64\n",
            "32\n",
            "1\n"
          ]
        }
      ]
    },
    {
      "cell_type": "code",
      "source": [
        "data = np.array([[5.2, 3.0, 4.5],\n",
        "                 [9.1, 0.1, 0.3]])\n",
        "\n",
        "print(data)\n",
        "print(data.shape)\n",
        "print(data.ndim)"
      ],
      "metadata": {
        "colab": {
          "base_uri": "https://localhost:8080/"
        },
        "id": "sYvNoXXwRX6s",
        "outputId": "0675a329-3dae-412d-9f90-7c173e530be6"
      },
      "execution_count": 3,
      "outputs": [
        {
          "output_type": "stream",
          "name": "stdout",
          "text": [
            "[[5.2 3.  4.5]\n",
            " [9.1 0.1 0.3]]\n",
            "(2, 3)\n",
            "2\n"
          ]
        }
      ]
    },
    {
      "cell_type": "code",
      "source": [
        "data = np.array([1, 2, 3])\n",
        "\n",
        "print(data.dtype)"
      ],
      "metadata": {
        "colab": {
          "base_uri": "https://localhost:8080/"
        },
        "id": "4RcKHK8sRleU",
        "outputId": "6e3fd02d-c411-4408-b249-d49b2e14385c"
      },
      "execution_count": 4,
      "outputs": [
        {
          "output_type": "stream",
          "name": "stdout",
          "text": [
            "int64\n"
          ]
        }
      ]
    },
    {
      "cell_type": "code",
      "source": [
        "data = np.array([1, 2, 3], dtype=np.float64)"
      ],
      "metadata": {
        "id": "eMyeC6FIRwPW"
      },
      "execution_count": 5,
      "outputs": []
    },
    {
      "cell_type": "code",
      "source": [
        "print(data.dtype)"
      ],
      "metadata": {
        "colab": {
          "base_uri": "https://localhost:8080/"
        },
        "id": "5hAcWUWxR2uc",
        "outputId": "041651d5-01f0-4c5d-a254-a9efe92d61b1"
      },
      "execution_count": 6,
      "outputs": [
        {
          "output_type": "stream",
          "name": "stdout",
          "text": [
            "float64\n"
          ]
        }
      ]
    },
    {
      "cell_type": "markdown",
      "source": [
        "# Update an element"
      ],
      "metadata": {
        "id": "ATgDNpTSR7ju"
      }
    },
    {
      "cell_type": "code",
      "source": [
        "data = np.array([1, 2, 3])\n",
        "print(data)\n",
        "data[0] = 8\n",
        "print(data)"
      ],
      "metadata": {
        "colab": {
          "base_uri": "https://localhost:8080/"
        },
        "id": "ZZ2nSBF6R4dN",
        "outputId": "b7374d9a-55fb-4ff3-d3dd-eadc2d374c6d"
      },
      "execution_count": 7,
      "outputs": [
        {
          "output_type": "stream",
          "name": "stdout",
          "text": [
            "[1 2 3]\n",
            "[8 2 3]\n"
          ]
        }
      ]
    },
    {
      "cell_type": "markdown",
      "source": [
        "# Create numpy array"
      ],
      "metadata": {
        "id": "gfa0fovvSM1T"
      }
    },
    {
      "cell_type": "code",
      "source": [
        "my_list = [8, 7, 6, 9]\n",
        "my_array = np.array(my_list)\n",
        "print(my_array)"
      ],
      "metadata": {
        "colab": {
          "base_uri": "https://localhost:8080/"
        },
        "id": "g-_zQ4lsSLUQ",
        "outputId": "82427b95-7a4a-4979-af56-8b1bcd3f2842"
      },
      "execution_count": 9,
      "outputs": [
        {
          "output_type": "stream",
          "name": "stdout",
          "text": [
            "[8 7 6 9]\n"
          ]
        }
      ]
    },
    {
      "cell_type": "code",
      "source": [
        "# Common functions\n",
        "# zeros()\n",
        "arr = np.zeros((2, 3))\n",
        "print(arr)"
      ],
      "metadata": {
        "colab": {
          "base_uri": "https://localhost:8080/"
        },
        "id": "LMqRagWUSVlj",
        "outputId": "b8f13907-5f70-49b0-8de5-b9ed2de61de9"
      },
      "execution_count": 10,
      "outputs": [
        {
          "output_type": "stream",
          "name": "stdout",
          "text": [
            "[[0. 0. 0.]\n",
            " [0. 0. 0.]]\n"
          ]
        }
      ]
    },
    {
      "cell_type": "code",
      "source": [
        "# ones()\n",
        "arr = np.ones((2, 3))\n",
        "print(arr)"
      ],
      "metadata": {
        "colab": {
          "base_uri": "https://localhost:8080/"
        },
        "id": "aDz3dL9NSi8S",
        "outputId": "849248b6-4ec8-4023-88d4-308d88790842"
      },
      "execution_count": 11,
      "outputs": [
        {
          "output_type": "stream",
          "name": "stdout",
          "text": [
            "[[1. 1. 1.]\n",
            " [1. 1. 1.]]\n"
          ]
        }
      ]
    },
    {
      "cell_type": "code",
      "source": [
        "# full()\n",
        "arr = np.full((2, 3), 8)\n",
        "print(arr)"
      ],
      "metadata": {
        "colab": {
          "base_uri": "https://localhost:8080/"
        },
        "id": "j4YDiS0XSns9",
        "outputId": "2a876fc3-90da-4693-c3db-5d9c12ac3c84"
      },
      "execution_count": 12,
      "outputs": [
        {
          "output_type": "stream",
          "name": "stdout",
          "text": [
            "[[8 8 8]\n",
            " [8 8 8]]\n"
          ]
        }
      ]
    },
    {
      "cell_type": "code",
      "source": [
        "# arange()\n",
        "arr1 = np.arange(5)\n",
        "print(arr1)\n",
        "arr2 = np.arange(0, 11, 5)\n",
        "print(arr2)"
      ],
      "metadata": {
        "colab": {
          "base_uri": "https://localhost:8080/"
        },
        "id": "OJqlP4gUStkV",
        "outputId": "d6bd2985-371d-40eb-b470-d14bf30b5527"
      },
      "execution_count": 13,
      "outputs": [
        {
          "output_type": "stream",
          "name": "stdout",
          "text": [
            "[0 1 2 3 4]\n",
            "[ 0  5 10]\n"
          ]
        }
      ]
    },
    {
      "cell_type": "code",
      "source": [
        "# eye()\n",
        "arr = np.eye(3)\n",
        "print(arr)"
      ],
      "metadata": {
        "colab": {
          "base_uri": "https://localhost:8080/"
        },
        "id": "n0RnoE6VS6XE",
        "outputId": "c6a5df79-059c-46c2-d0a6-5f80f906d174"
      },
      "execution_count": 14,
      "outputs": [
        {
          "output_type": "stream",
          "name": "stdout",
          "text": [
            "[[1. 0. 0.]\n",
            " [0. 1. 0.]\n",
            " [0. 0. 1.]]\n"
          ]
        }
      ]
    },
    {
      "cell_type": "code",
      "source": [
        "# random()\n",
        "arr = np.random.random((2, 3))\n",
        "print(arr)"
      ],
      "metadata": {
        "colab": {
          "base_uri": "https://localhost:8080/"
        },
        "id": "35h4ixoWS_8O",
        "outputId": "d5ac4976-6f66-4a76-fc24-2d2dd75388dc"
      },
      "execution_count": 15,
      "outputs": [
        {
          "output_type": "stream",
          "name": "stdout",
          "text": [
            "[[0.28849674 0.75881428 0.79038545]\n",
            " [0.18733729 0.80928914 0.85599811]]\n"
          ]
        }
      ]
    },
    {
      "cell_type": "code",
      "source": [
        "# numpy.hstack()\n",
        "arr1 = np.array([0, 1, 2, 3])\n",
        "print(\"arr1: \", arr1)\n",
        "\n",
        "arr2 = np.array([4, 5, 6, 7])\n",
        "print(\"arr2: \", arr2)\n",
        "\n",
        "result = np.hstack((arr1, arr2))\n",
        "print('result: ', result)"
      ],
      "metadata": {
        "colab": {
          "base_uri": "https://localhost:8080/"
        },
        "id": "R8lMAqW8TGv8",
        "outputId": "c9dc0abb-6178-4d4e-c9ac-c7d858068f0e"
      },
      "execution_count": 16,
      "outputs": [
        {
          "output_type": "stream",
          "name": "stdout",
          "text": [
            "arr1:  [0 1 2 3]\n",
            "arr2:  [4 5 6 7]\n",
            "result:  [0 1 2 3 4 5 6 7]\n"
          ]
        }
      ]
    },
    {
      "cell_type": "code",
      "source": [
        "# numpy.vstack()\n",
        "arr1 = np.array([0, 1, 2, 3])\n",
        "print(\"arr1: \", arr1)\n",
        "\n",
        "arr2 = np.array([4, 5, 6, 7])\n",
        "print(\"arr2: \", arr2)\n",
        "\n",
        "result = np.vstack((arr1, arr2))\n",
        "print('result: \\n', result)"
      ],
      "metadata": {
        "colab": {
          "base_uri": "https://localhost:8080/"
        },
        "id": "nDEr_9BPTdG7",
        "outputId": "84987ac6-43f4-48d0-b7e5-42c0b2cdfbd0"
      },
      "execution_count": 18,
      "outputs": [
        {
          "output_type": "stream",
          "name": "stdout",
          "text": [
            "arr1:  [0 1 2 3]\n",
            "arr2:  [4 5 6 7]\n",
            "result: \n",
            " [[0 1 2 3]\n",
            " [4 5 6 7]]\n"
          ]
        }
      ]
    },
    {
      "cell_type": "code",
      "source": [
        "# numpy.concatenate()\n",
        "arr1 = np.array([[0, 1, 2, 3]])\n",
        "print(\"arr1: \", arr1)\n",
        "\n",
        "arr2 = np.array([[4, 5, 6, 7]])\n",
        "print(\"arr2: \", arr2)\n",
        "\n",
        "result1 = np.concatenate((arr1, arr2), axis=0)\n",
        "print(\"result1: \\n\", result1)\n",
        "\n",
        "result2 = np.concatenate((arr1, arr2), axis=1)\n",
        "print(\"result2: \\n\", result2)"
      ],
      "metadata": {
        "colab": {
          "base_uri": "https://localhost:8080/"
        },
        "id": "fY0bLnPxTj03",
        "outputId": "8c8f2432-107e-4824-c37e-c024181701ac"
      },
      "execution_count": 20,
      "outputs": [
        {
          "output_type": "stream",
          "name": "stdout",
          "text": [
            "arr1:  [[0 1 2 3]]\n",
            "arr2:  [[4 5 6 7]]\n",
            "result1: \n",
            " [[0 1 2 3]\n",
            " [4 5 6 7]]\n",
            "result2: \n",
            " [[0 1 2 3 4 5 6 7]]\n"
          ]
        }
      ]
    },
    {
      "cell_type": "code",
      "source": [
        "# numpy.array_split\n",
        "arr = np.array([1, 2, 3, 4, 5, 6])\n",
        "\n",
        "newarr = np.array_split(arr, 3)\n",
        "\n",
        "print(newarr[0])\n",
        "print(newarr[1])\n",
        "print(newarr[2])"
      ],
      "metadata": {
        "colab": {
          "base_uri": "https://localhost:8080/"
        },
        "id": "gnkeL88AT7Iz",
        "outputId": "f12c1318-de7a-451f-a3ae-b891bd0082f0"
      },
      "execution_count": 21,
      "outputs": [
        {
          "output_type": "stream",
          "name": "stdout",
          "text": [
            "[1 2]\n",
            "[3 4]\n",
            "[5 6]\n"
          ]
        }
      ]
    },
    {
      "cell_type": "code",
      "source": [
        "# where() function\n",
        "arr = np.array([[0, 1, 2, 3]])\n",
        "condition = arr < 2\n",
        "print(condition)\n",
        "\n",
        "out = np.where(condition, arr, arr**2)\n",
        "print(out)"
      ],
      "metadata": {
        "colab": {
          "base_uri": "https://localhost:8080/"
        },
        "id": "yl6DxIjdUW9d",
        "outputId": "4d4e16fd-b665-41a3-bb52-01bd099dfbe3"
      },
      "execution_count": 22,
      "outputs": [
        {
          "output_type": "stream",
          "name": "stdout",
          "text": [
            "[[ True  True False False]]\n",
            "[[0 1 4 9]]\n"
          ]
        }
      ]
    },
    {
      "cell_type": "code",
      "source": [
        "# flatten\n",
        "arr = np.array([[0, 1],\n",
        "                [4, 5]])\n",
        "out = arr.flatten()\n",
        "print(arr)\n",
        "print(out)"
      ],
      "metadata": {
        "colab": {
          "base_uri": "https://localhost:8080/"
        },
        "id": "D7UeQM6oUn6v",
        "outputId": "35b91161-e422-408a-8ad4-634bc1830fce"
      },
      "execution_count": 23,
      "outputs": [
        {
          "output_type": "stream",
          "name": "stdout",
          "text": [
            "[[0 1]\n",
            " [4 5]]\n",
            "[0 1 4 5]\n"
          ]
        }
      ]
    },
    {
      "cell_type": "code",
      "source": [
        "# reshape\n",
        "arr = np.array([[0, 1, 2, 3],\n",
        "                [4, 5, 6, 7]])\n",
        "\n",
        "print(arr)\n",
        "print(\"Shape: \", arr.shape)\n",
        "\n",
        "out = np.reshape(arr, (4, 2))\n",
        "print(out)\n",
        "print(\"shape: \", out.shape)"
      ],
      "metadata": {
        "colab": {
          "base_uri": "https://localhost:8080/"
        },
        "id": "Oy1uK3ayUzhR",
        "outputId": "b6256497-0789-4a5f-98f8-23e947834bb7"
      },
      "execution_count": 25,
      "outputs": [
        {
          "output_type": "stream",
          "name": "stdout",
          "text": [
            "[[0 1 2 3]\n",
            " [4 5 6 7]]\n",
            "Shape:  (2, 4)\n",
            "[[0 1]\n",
            " [2 3]\n",
            " [4 5]\n",
            " [6 7]]\n",
            "shape:  (4, 2)\n"
          ]
        }
      ]
    },
    {
      "cell_type": "markdown",
      "source": [
        "# Array Indexing"
      ],
      "metadata": {
        "id": "tOHNBI6uVLg9"
      }
    },
    {
      "cell_type": "code",
      "source": [
        "arr = np.array([[0, 1],\n",
        "               [2, 3],\n",
        "               [4, 5],\n",
        "               [6, 7]])\n",
        "\n",
        "print(arr)"
      ],
      "metadata": {
        "colab": {
          "base_uri": "https://localhost:8080/"
        },
        "id": "ljH7dYRzVG9G",
        "outputId": "a7c5a291-a778-466e-94bc-7f2c3e9ebc80"
      },
      "execution_count": 27,
      "outputs": [
        {
          "output_type": "stream",
          "name": "stdout",
          "text": [
            "[[0 1]\n",
            " [2 3]\n",
            " [4 5]\n",
            " [6 7]]\n"
          ]
        }
      ]
    },
    {
      "cell_type": "code",
      "source": [
        "arr[0, 1]"
      ],
      "metadata": {
        "colab": {
          "base_uri": "https://localhost:8080/"
        },
        "id": "tW9V4_2JVcZE",
        "outputId": "559135cd-63d2-4e7e-cb60-464ab8571cd3"
      },
      "execution_count": 28,
      "outputs": [
        {
          "output_type": "execute_result",
          "data": {
            "text/plain": [
              "1"
            ]
          },
          "metadata": {},
          "execution_count": 28
        }
      ]
    },
    {
      "cell_type": "code",
      "source": [
        "arr[1:3]"
      ],
      "metadata": {
        "colab": {
          "base_uri": "https://localhost:8080/"
        },
        "id": "EaLokcN5Vggz",
        "outputId": "ffa666c1-21b0-42ca-e799-d482381e104c"
      },
      "execution_count": 29,
      "outputs": [
        {
          "output_type": "execute_result",
          "data": {
            "text/plain": [
              "array([[2, 3],\n",
              "       [4, 5]])"
            ]
          },
          "metadata": {},
          "execution_count": 29
        }
      ]
    },
    {
      "cell_type": "code",
      "source": [
        "print(arr[0:2, 0])"
      ],
      "metadata": {
        "colab": {
          "base_uri": "https://localhost:8080/"
        },
        "id": "uTnjuvrNVh5i",
        "outputId": "3fe666a1-1037-4aa4-a280-757e188670a5"
      },
      "execution_count": 30,
      "outputs": [
        {
          "output_type": "stream",
          "name": "stdout",
          "text": [
            "[0 2]\n"
          ]
        }
      ]
    },
    {
      "cell_type": "code",
      "source": [
        "print(arr[:, 1:])"
      ],
      "metadata": {
        "colab": {
          "base_uri": "https://localhost:8080/"
        },
        "id": "WXFHlNosVlDE",
        "outputId": "6f1e1a51-e5db-47fd-8d3e-47d35ce9d6a7"
      },
      "execution_count": 31,
      "outputs": [
        {
          "output_type": "stream",
          "name": "stdout",
          "text": [
            "[[1]\n",
            " [3]\n",
            " [5]\n",
            " [7]]\n"
          ]
        }
      ]
    },
    {
      "cell_type": "code",
      "source": [
        "arr = np.array([[0, 1, 2, 3],\n",
        "                [4, 5, 6, 7],\n",
        "                [8, 9, 10, 11],\n",
        "                [12, 13, 14, 15]])\n",
        "\n",
        "print(arr)"
      ],
      "metadata": {
        "colab": {
          "base_uri": "https://localhost:8080/"
        },
        "id": "KT1hfL0dVnyS",
        "outputId": "bffbef5c-5504-4cad-efe0-7ec80120f9e6"
      },
      "execution_count": 32,
      "outputs": [
        {
          "output_type": "stream",
          "name": "stdout",
          "text": [
            "[[ 0  1  2  3]\n",
            " [ 4  5  6  7]\n",
            " [ 8  9 10 11]\n",
            " [12 13 14 15]]\n"
          ]
        }
      ]
    },
    {
      "cell_type": "code",
      "source": [
        "print(arr[0, :])"
      ],
      "metadata": {
        "colab": {
          "base_uri": "https://localhost:8080/"
        },
        "id": "79hPdmukV2jA",
        "outputId": "d178c5eb-6275-40c1-cb12-d57eae9bd4b6"
      },
      "execution_count": 33,
      "outputs": [
        {
          "output_type": "stream",
          "name": "stdout",
          "text": [
            "[0 1 2 3]\n"
          ]
        }
      ]
    },
    {
      "cell_type": "code",
      "source": [
        "print(arr[1, :])"
      ],
      "metadata": {
        "colab": {
          "base_uri": "https://localhost:8080/"
        },
        "id": "sKoDULK4V7Y9",
        "outputId": "11b99e55-9a75-46ae-af87-848a02ec2a0f"
      },
      "execution_count": 34,
      "outputs": [
        {
          "output_type": "stream",
          "name": "stdout",
          "text": [
            "[4 5 6 7]\n"
          ]
        }
      ]
    },
    {
      "cell_type": "code",
      "source": [
        "print(arr[:, 2:3])"
      ],
      "metadata": {
        "colab": {
          "base_uri": "https://localhost:8080/"
        },
        "id": "bOcvUQkjV9En",
        "outputId": "e410c2c0-11fc-4413-ef6b-02ea17eb467e"
      },
      "execution_count": 36,
      "outputs": [
        {
          "output_type": "stream",
          "name": "stdout",
          "text": [
            "[[ 2]\n",
            " [ 6]\n",
            " [10]\n",
            " [14]]\n"
          ]
        }
      ]
    },
    {
      "cell_type": "code",
      "source": [
        "print(arr[0:2, 0:2])"
      ],
      "metadata": {
        "colab": {
          "base_uri": "https://localhost:8080/"
        },
        "id": "yYiajz9KV_P8",
        "outputId": "987999b1-f0b3-4b93-c665-af3072ad2b06"
      },
      "execution_count": 37,
      "outputs": [
        {
          "output_type": "stream",
          "name": "stdout",
          "text": [
            "[[0 1]\n",
            " [4 5]]\n"
          ]
        }
      ]
    },
    {
      "cell_type": "code",
      "source": [
        "print(arr[0:2, 2:])"
      ],
      "metadata": {
        "colab": {
          "base_uri": "https://localhost:8080/"
        },
        "id": "UZQ8_ptYWOVv",
        "outputId": "e91afc7c-3613-48a3-e31c-2e3e6e29a98d"
      },
      "execution_count": 39,
      "outputs": [
        {
          "output_type": "stream",
          "name": "stdout",
          "text": [
            "[[2 3]\n",
            " [6 7]]\n"
          ]
        }
      ]
    },
    {
      "cell_type": "code",
      "source": [
        "print(arr[0:3:2, 0:3:2])"
      ],
      "metadata": {
        "colab": {
          "base_uri": "https://localhost:8080/"
        },
        "id": "VE1rAGClWR8D",
        "outputId": "fc812606-eb28-4382-8596-bb8b8b9e4d0c"
      },
      "execution_count": 42,
      "outputs": [
        {
          "output_type": "stream",
          "name": "stdout",
          "text": [
            "[[ 0  2]\n",
            " [ 8 10]]\n"
          ]
        }
      ]
    },
    {
      "cell_type": "code",
      "source": [
        "print(arr[1::2, 1::2])"
      ],
      "metadata": {
        "colab": {
          "base_uri": "https://localhost:8080/"
        },
        "id": "drg7e4iPWeht",
        "outputId": "72dad22d-6bc7-409e-f3a7-3f80befff26b"
      },
      "execution_count": 43,
      "outputs": [
        {
          "output_type": "stream",
          "name": "stdout",
          "text": [
            "[[ 5  7]\n",
            " [13 15]]\n"
          ]
        }
      ]
    },
    {
      "cell_type": "code",
      "source": [
        "print(arr[:, 0::3])"
      ],
      "metadata": {
        "colab": {
          "base_uri": "https://localhost:8080/"
        },
        "id": "zWkl5i8EbVzD",
        "outputId": "52a2356e-952b-4d11-d452-68cb67dd1921"
      },
      "execution_count": 44,
      "outputs": [
        {
          "output_type": "stream",
          "name": "stdout",
          "text": [
            "[[ 0  3]\n",
            " [ 4  7]\n",
            " [ 8 11]\n",
            " [12 15]]\n"
          ]
        }
      ]
    },
    {
      "cell_type": "code",
      "source": [
        "print(arr[[1, 3], [0, 3]])"
      ],
      "metadata": {
        "colab": {
          "base_uri": "https://localhost:8080/"
        },
        "id": "6p8JLkSYbfb7",
        "outputId": "a4195f30-3fdd-49dc-a868-91cb080aeec3"
      },
      "execution_count": 45,
      "outputs": [
        {
          "output_type": "stream",
          "name": "stdout",
          "text": [
            "[ 4 15]\n"
          ]
        }
      ]
    },
    {
      "cell_type": "code",
      "source": [
        "print(arr[:, [1, 2]])"
      ],
      "metadata": {
        "colab": {
          "base_uri": "https://localhost:8080/"
        },
        "id": "bAwB-mLQbwLP",
        "outputId": "d7c05c5e-55ac-4d98-b866-e7b054825584"
      },
      "execution_count": 46,
      "outputs": [
        {
          "output_type": "stream",
          "name": "stdout",
          "text": [
            "[[ 1  2]\n",
            " [ 5  6]\n",
            " [ 9 10]\n",
            " [13 14]]\n"
          ]
        }
      ]
    },
    {
      "cell_type": "code",
      "source": [
        "print(arr[1:3, 1:3])"
      ],
      "metadata": {
        "colab": {
          "base_uri": "https://localhost:8080/"
        },
        "id": "tfL9LqBwb45X",
        "outputId": "ffbd78b6-6e44-479a-fc00-8ff80ab07b4b"
      },
      "execution_count": 49,
      "outputs": [
        {
          "output_type": "stream",
          "name": "stdout",
          "text": [
            "[[ 5  6]\n",
            " [ 9 10]]\n"
          ]
        }
      ]
    },
    {
      "cell_type": "markdown",
      "source": [
        "# Numpy Array Operation"
      ],
      "metadata": {
        "id": "2Sxtr3wEc3wF"
      }
    },
    {
      "cell_type": "code",
      "source": [
        "arr1 = np.array([[0, 1, 2, 3]])\n",
        "arr2 = np.array([[4, 5, 6, 7]])\n",
        "\n",
        "out = np.add(arr1, arr2)\n",
        "print('result1:\\n', out)"
      ],
      "metadata": {
        "colab": {
          "base_uri": "https://localhost:8080/"
        },
        "id": "eAwrPKY_b89T",
        "outputId": "bd784689-21d0-4f23-9993-03c723872faf"
      },
      "execution_count": 50,
      "outputs": [
        {
          "output_type": "stream",
          "name": "stdout",
          "text": [
            "result1:\n",
            " [[ 4  6  8 10]]\n"
          ]
        }
      ]
    },
    {
      "cell_type": "code",
      "source": [
        "arr1 = np.array([[4, 5, 3, 0]])\n",
        "arr2 = np.array([[0, 1, 2, 3]])\n",
        "\n",
        "out = np.subtract(arr1, arr2)\n",
        "print(\"result1: \\n\", out)"
      ],
      "metadata": {
        "colab": {
          "base_uri": "https://localhost:8080/"
        },
        "id": "Em-CYYBod7Hz",
        "outputId": "ced0292f-62b1-426d-80f1-42ee45fb9b9a"
      },
      "execution_count": 51,
      "outputs": [
        {
          "output_type": "stream",
          "name": "stdout",
          "text": [
            "result1: \n",
            " [[ 4  4  1 -3]]\n"
          ]
        }
      ]
    },
    {
      "cell_type": "code",
      "source": [
        "arr1 = np.array([[0, 1, 2, 3]])\n",
        "arr2 = np.array([[4, 5, 6, 7]])\n",
        "\n",
        "out = np.multiply(arr1, arr2)\n",
        "print(\"result1: \\n\", out)"
      ],
      "metadata": {
        "colab": {
          "base_uri": "https://localhost:8080/"
        },
        "id": "nkPxO6BThtTl",
        "outputId": "38d0a856-cd9f-4f18-fb94-44db65c46e66"
      },
      "execution_count": 52,
      "outputs": [
        {
          "output_type": "stream",
          "name": "stdout",
          "text": [
            "result1: \n",
            " [[ 0  5 12 21]]\n"
          ]
        }
      ]
    },
    {
      "cell_type": "code",
      "source": [
        "arr1 = np.array([[4, 5, 3, 1]])\n",
        "arr2 = np.array([[1, 1, 2, 3]])\n",
        "\n",
        "out = np.divide(arr1, arr2)\n",
        "print(\"result1:\\n\", out)"
      ],
      "metadata": {
        "colab": {
          "base_uri": "https://localhost:8080/"
        },
        "id": "aW3t9Bjah_JV",
        "outputId": "b35f753f-720c-45c6-d2df-bce14196b1fb"
      },
      "execution_count": 54,
      "outputs": [
        {
          "output_type": "stream",
          "name": "stdout",
          "text": [
            "result1:\n",
            " [[4.         5.         1.5        0.33333333]]\n"
          ]
        }
      ]
    },
    {
      "cell_type": "code",
      "source": [
        "# Matrix Multiplication\n",
        "X = np.array([[1, 1, 2],\n",
        "              [1, 2, 3]])\n",
        "Y = np.array([[0, 1],\n",
        "              [2, 3],\n",
        "              [4, 5]])\n",
        "out = np.dot(X, Y)\n",
        "print(out)\n",
        "print(\"Shape: \", out.shape)"
      ],
      "metadata": {
        "colab": {
          "base_uri": "https://localhost:8080/"
        },
        "id": "aBApiFmgiOiq",
        "outputId": "e9fc9337-120e-478e-96c4-90bc6fbb9afc"
      },
      "execution_count": 55,
      "outputs": [
        {
          "output_type": "stream",
          "name": "stdout",
          "text": [
            "[[10 14]\n",
            " [16 22]]\n",
            "Shape:  (2, 2)\n"
          ]
        }
      ]
    },
    {
      "cell_type": "code",
      "source": [
        "# Transpose\n",
        "arr = np.array([[10, 14], [16, 22]])\n",
        "print(arr.T)\n",
        "print(np.transpose(arr))"
      ],
      "metadata": {
        "colab": {
          "base_uri": "https://localhost:8080/"
        },
        "id": "xdujCT6Rihgd",
        "outputId": "5d2ec4e3-c7cb-4f9e-9505-8b1e3cef696e"
      },
      "execution_count": 56,
      "outputs": [
        {
          "output_type": "stream",
          "name": "stdout",
          "text": [
            "[[10 16]\n",
            " [14 22]]\n",
            "[[10 16]\n",
            " [14 22]]\n"
          ]
        }
      ]
    }
  ]
}