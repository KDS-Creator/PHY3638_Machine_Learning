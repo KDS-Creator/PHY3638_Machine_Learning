{
  "nbformat": 4,
  "nbformat_minor": 0,
  "metadata": {
    "colab": {
      "provenance": [],
      "authorship_tag": "ABX9TyPmcpahV6UTB1uDbZLTVzry",
      "include_colab_link": true
    },
    "kernelspec": {
      "name": "python3",
      "display_name": "Python 3"
    },
    "language_info": {
      "name": "python"
    }
  },
  "cells": [
    {
      "cell_type": "markdown",
      "metadata": {
        "id": "view-in-github",
        "colab_type": "text"
      },
      "source": [
        "<a href=\"https://colab.research.google.com/github/KDS-Creator/PHY3638_Machine_Learning/blob/main/Intro_Python.ipynb\" target=\"_parent\"><img src=\"https://colab.research.google.com/assets/colab-badge.svg\" alt=\"Open In Colab\"/></a>"
      ]
    },
    {
      "cell_type": "markdown",
      "source": [
        "# Python Introduction"
      ],
      "metadata": {
        "id": "cgwL0vpS8JmV"
      }
    },
    {
      "cell_type": "code",
      "execution_count": 1,
      "metadata": {
        "colab": {
          "base_uri": "https://localhost:8080/"
        },
        "id": "myevUgZF7WdJ",
        "outputId": "c10d6e6b-5b41-4cce-c0fa-675d2e9645aa"
      },
      "outputs": [
        {
          "output_type": "stream",
          "name": "stdout",
          "text": [
            "Hello World\n",
            "gia tri cua y la: 7\n"
          ]
        }
      ],
      "source": [
        "# Here's a simple \"Hello World\" program Python\n",
        "print('Hello World')\n",
        "\n",
        "x = 9\n",
        "y = x - 2\n",
        "\n",
        "print(f'gia tri cua y la: {y}')"
      ]
    },
    {
      "cell_type": "markdown",
      "source": [
        "# Variables and data types"
      ],
      "metadata": {
        "id": "ZQhiDt178p0j"
      }
    },
    {
      "cell_type": "markdown",
      "source": [
        "## Integers"
      ],
      "metadata": {
        "id": "x3_VJVAp8syZ"
      }
    },
    {
      "cell_type": "code",
      "source": [
        "a = 5\n",
        "b = 10\n",
        "\n",
        "print(a, '\\t', type(a))\n",
        "print('{0} {1} {2}'.format(b, '\\t', type(b)))"
      ],
      "metadata": {
        "colab": {
          "base_uri": "https://localhost:8080/"
        },
        "id": "Uaau_D2T8ZZC",
        "outputId": "f7534d81-d24c-43a4-a929-13237c711645"
      },
      "execution_count": 2,
      "outputs": [
        {
          "output_type": "stream",
          "name": "stdout",
          "text": [
            "5 \t <class 'int'>\n",
            "10 \t <class 'int'>\n"
          ]
        }
      ]
    },
    {
      "cell_type": "markdown",
      "source": [
        "## Floats"
      ],
      "metadata": {
        "id": "0fGDxv4s86Kx"
      }
    },
    {
      "cell_type": "code",
      "source": [
        "c = 2.12345\n",
        "d = 9.653\n",
        "e = 3.34367463754\n",
        "\n",
        "print(c, '\\t', type(c))\n",
        "print('%f %s %s' % (d, '\\t', type(d)))\n",
        "print('%.2f %s %s' % (e, '\\t\\t', type(e)))"
      ],
      "metadata": {
        "colab": {
          "base_uri": "https://localhost:8080/"
        },
        "id": "juG_Ddn_85Hp",
        "outputId": "8ded90e0-55bf-40ec-e0f4-3cef35c44dcc"
      },
      "execution_count": 3,
      "outputs": [
        {
          "output_type": "stream",
          "name": "stdout",
          "text": [
            "2.12345 \t <class 'float'>\n",
            "9.653000 \t <class 'float'>\n",
            "3.34 \t\t <class 'float'>\n"
          ]
        }
      ]
    },
    {
      "cell_type": "markdown",
      "source": [
        "## Strings"
      ],
      "metadata": {
        "id": "DgXrFhC59WwB"
      }
    },
    {
      "cell_type": "code",
      "source": [
        "str1 = 'Hom nay'\n",
        "str2 = 'Khong mua'\n",
        "\n",
        "print(str1)\n",
        "print(str2)\n",
        "print(str1 + ' ' + str2)\n",
        "print(str1, type(str1), sep='\\t\\t')"
      ],
      "metadata": {
        "colab": {
          "base_uri": "https://localhost:8080/"
        },
        "id": "oOAX1_8N9RfK",
        "outputId": "b48a0d9a-e95d-48d8-e53a-2bad4e6fc2d5"
      },
      "execution_count": 4,
      "outputs": [
        {
          "output_type": "stream",
          "name": "stdout",
          "text": [
            "Hom nay\n",
            "Khong mua\n",
            "Hom nay Khong mua\n",
            "Hom nay\t\t<class 'str'>\n"
          ]
        }
      ]
    },
    {
      "cell_type": "code",
      "source": [
        "str3 = str1 + ' ' + str2\n",
        "\n",
        "print(str3)\n",
        "print(str3[-1])\n",
        "print(str3[8:13])"
      ],
      "metadata": {
        "colab": {
          "base_uri": "https://localhost:8080/"
        },
        "id": "YJjwbfSX9in7",
        "outputId": "c3bf3e79-c262-4639-bbeb-664eebe255ca"
      },
      "execution_count": 5,
      "outputs": [
        {
          "output_type": "stream",
          "name": "stdout",
          "text": [
            "Hom nay Khong mua\n",
            "a\n",
            "Khong\n"
          ]
        }
      ]
    },
    {
      "cell_type": "markdown",
      "source": [
        "## Boolean"
      ],
      "metadata": {
        "id": "zIxeT7XD9xdb"
      }
    },
    {
      "cell_type": "code",
      "source": [
        "t = True\n",
        "f = False\n",
        "\n",
        "print(type(t))\n",
        "print(t and f)  # Logical AND\n",
        "print(t or f)   # Logical OR\n",
        "print(not f)    # Logical NOT\n",
        "print(t != f)   # Logical XOR"
      ],
      "metadata": {
        "colab": {
          "base_uri": "https://localhost:8080/"
        },
        "id": "IClLNc7_9qvD",
        "outputId": "cbce550f-b0d8-499e-95a0-2e8cbaef28c0"
      },
      "execution_count": 6,
      "outputs": [
        {
          "output_type": "stream",
          "name": "stdout",
          "text": [
            "<class 'bool'>\n",
            "False\n",
            "True\n",
            "True\n",
            "True\n"
          ]
        }
      ]
    },
    {
      "cell_type": "code",
      "source": [],
      "metadata": {
        "id": "4k1rFTal-C6g"
      },
      "execution_count": null,
      "outputs": []
    }
  ]
}