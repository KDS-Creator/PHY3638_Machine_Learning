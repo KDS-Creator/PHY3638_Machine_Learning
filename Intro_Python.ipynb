{
  "nbformat": 4,
  "nbformat_minor": 0,
  "metadata": {
    "colab": {
      "provenance": [],
      "authorship_tag": "ABX9TyM7amLjzLfTV7JoNtacS1q0",
      "include_colab_link": true
    },
    "kernelspec": {
      "name": "python3",
      "display_name": "Python 3"
    },
    "language_info": {
      "name": "python"
    }
  },
  "cells": [
    {
      "cell_type": "markdown",
      "metadata": {
        "id": "view-in-github",
        "colab_type": "text"
      },
      "source": [
        "<a href=\"https://colab.research.google.com/github/KDS-Creator/PHY3638_Machine_Learning/blob/main/Intro_Python.ipynb\" target=\"_parent\"><img src=\"https://colab.research.google.com/assets/colab-badge.svg\" alt=\"Open In Colab\"/></a>"
      ]
    },
    {
      "cell_type": "markdown",
      "source": [
        "# Python Introduction"
      ],
      "metadata": {
        "id": "cgwL0vpS8JmV"
      }
    },
    {
      "cell_type": "code",
      "execution_count": 1,
      "metadata": {
        "colab": {
          "base_uri": "https://localhost:8080/"
        },
        "id": "myevUgZF7WdJ",
        "outputId": "c10d6e6b-5b41-4cce-c0fa-675d2e9645aa"
      },
      "outputs": [
        {
          "output_type": "stream",
          "name": "stdout",
          "text": [
            "Hello World\n",
            "gia tri cua y la: 7\n"
          ]
        }
      ],
      "source": [
        "# Here's a simple \"Hello World\" program Python\n",
        "print('Hello World')\n",
        "\n",
        "x = 9\n",
        "y = x - 2\n",
        "\n",
        "print(f'gia tri cua y la: {y}')"
      ]
    },
    {
      "cell_type": "markdown",
      "source": [
        "# Variables and data types"
      ],
      "metadata": {
        "id": "ZQhiDt178p0j"
      }
    },
    {
      "cell_type": "markdown",
      "source": [
        "## Integers"
      ],
      "metadata": {
        "id": "x3_VJVAp8syZ"
      }
    },
    {
      "cell_type": "code",
      "source": [
        "a = 5\n",
        "b = 10\n",
        "\n",
        "print(a, '\\t', type(a))\n",
        "print('{0} {1} {2}'.format(b, '\\t', type(b)))"
      ],
      "metadata": {
        "colab": {
          "base_uri": "https://localhost:8080/"
        },
        "id": "Uaau_D2T8ZZC",
        "outputId": "f7534d81-d24c-43a4-a929-13237c711645"
      },
      "execution_count": 2,
      "outputs": [
        {
          "output_type": "stream",
          "name": "stdout",
          "text": [
            "5 \t <class 'int'>\n",
            "10 \t <class 'int'>\n"
          ]
        }
      ]
    },
    {
      "cell_type": "markdown",
      "source": [
        "## Floats"
      ],
      "metadata": {
        "id": "0fGDxv4s86Kx"
      }
    },
    {
      "cell_type": "code",
      "source": [
        "c = 2.12345\n",
        "d = 9.653\n",
        "e = 3.34367463754\n",
        "\n",
        "print(c, '\\t', type(c))\n",
        "print('%f %s %s' % (d, '\\t', type(d)))\n",
        "print('%.2f %s %s' % (e, '\\t\\t', type(e)))"
      ],
      "metadata": {
        "colab": {
          "base_uri": "https://localhost:8080/"
        },
        "id": "juG_Ddn_85Hp",
        "outputId": "8ded90e0-55bf-40ec-e0f4-3cef35c44dcc"
      },
      "execution_count": 3,
      "outputs": [
        {
          "output_type": "stream",
          "name": "stdout",
          "text": [
            "2.12345 \t <class 'float'>\n",
            "9.653000 \t <class 'float'>\n",
            "3.34 \t\t <class 'float'>\n"
          ]
        }
      ]
    },
    {
      "cell_type": "markdown",
      "source": [
        "## Strings"
      ],
      "metadata": {
        "id": "DgXrFhC59WwB"
      }
    },
    {
      "cell_type": "code",
      "source": [
        "str1 = 'Hom nay'\n",
        "str2 = 'Khong mua'\n",
        "\n",
        "print(str1)\n",
        "print(str2)\n",
        "print(str1 + ' ' + str2)\n",
        "print(str1, type(str1), sep='\\t\\t')"
      ],
      "metadata": {
        "colab": {
          "base_uri": "https://localhost:8080/"
        },
        "id": "oOAX1_8N9RfK",
        "outputId": "b48a0d9a-e95d-48d8-e53a-2bad4e6fc2d5"
      },
      "execution_count": 4,
      "outputs": [
        {
          "output_type": "stream",
          "name": "stdout",
          "text": [
            "Hom nay\n",
            "Khong mua\n",
            "Hom nay Khong mua\n",
            "Hom nay\t\t<class 'str'>\n"
          ]
        }
      ]
    },
    {
      "cell_type": "code",
      "source": [
        "str3 = str1 + ' ' + str2\n",
        "\n",
        "print(str3)\n",
        "print(str3[-1])\n",
        "print(str3[8:13])"
      ],
      "metadata": {
        "colab": {
          "base_uri": "https://localhost:8080/"
        },
        "id": "YJjwbfSX9in7",
        "outputId": "c3bf3e79-c262-4639-bbeb-664eebe255ca"
      },
      "execution_count": 5,
      "outputs": [
        {
          "output_type": "stream",
          "name": "stdout",
          "text": [
            "Hom nay Khong mua\n",
            "a\n",
            "Khong\n"
          ]
        }
      ]
    },
    {
      "cell_type": "markdown",
      "source": [
        "## Boolean"
      ],
      "metadata": {
        "id": "zIxeT7XD9xdb"
      }
    },
    {
      "cell_type": "code",
      "source": [
        "t = True\n",
        "f = False\n",
        "\n",
        "print(type(t))\n",
        "print(t and f)  # Logical AND\n",
        "print(t or f)   # Logical OR\n",
        "print(not f)    # Logical NOT\n",
        "print(t != f)   # Logical XOR"
      ],
      "metadata": {
        "colab": {
          "base_uri": "https://localhost:8080/"
        },
        "id": "IClLNc7_9qvD",
        "outputId": "cbce550f-b0d8-499e-95a0-2e8cbaef28c0"
      },
      "execution_count": 6,
      "outputs": [
        {
          "output_type": "stream",
          "name": "stdout",
          "text": [
            "<class 'bool'>\n",
            "False\n",
            "True\n",
            "True\n",
            "True\n"
          ]
        }
      ]
    },
    {
      "cell_type": "markdown",
      "source": [
        "# Control flow statement"
      ],
      "metadata": {
        "id": "m2Wyk3NA-hxZ"
      }
    },
    {
      "cell_type": "markdown",
      "source": [
        "## If - Else"
      ],
      "metadata": {
        "id": "87LsFcRF-lpu"
      }
    },
    {
      "cell_type": "code",
      "source": [
        "a = float(input())\n",
        "\n",
        "if a < 5:\n",
        "  print('Hoc luc Yeu')\n",
        "elif a >= 5.0 and a < 6.5:\n",
        "  print('Hoc luc Trung Binh')\n",
        "elif a >= 6.5 and a < 8.0:\n",
        "  print('Hoc luc Kha')\n",
        "else:\n",
        "  print('Hoc luc Gioi')"
      ],
      "metadata": {
        "colab": {
          "base_uri": "https://localhost:8080/"
        },
        "id": "4k1rFTal-C6g",
        "outputId": "e30db630-125e-4f67-a146-2b73704d5c16"
      },
      "execution_count": 7,
      "outputs": [
        {
          "output_type": "stream",
          "name": "stdout",
          "text": [
            "6\n",
            "Hoc luc Trung Binh\n"
          ]
        }
      ]
    },
    {
      "cell_type": "markdown",
      "source": [
        "## For"
      ],
      "metadata": {
        "id": "n5r3XyYb-8WT"
      }
    },
    {
      "cell_type": "code",
      "source": [
        "s = 0\n",
        "for i in range(5):\n",
        "  print(i)\n",
        "  s += i\n",
        "print(\"Gia tri cua s la:\",s)"
      ],
      "metadata": {
        "colab": {
          "base_uri": "https://localhost:8080/"
        },
        "id": "d9z31fq9-6aQ",
        "outputId": "c56e6a5c-7d56-4df7-f33c-46f73886a33f"
      },
      "execution_count": 8,
      "outputs": [
        {
          "output_type": "stream",
          "name": "stdout",
          "text": [
            "0\n",
            "1\n",
            "2\n",
            "3\n",
            "4\n",
            "Gia tri cua s la: 10\n"
          ]
        }
      ]
    },
    {
      "cell_type": "code",
      "source": [
        "i = 1\n",
        "for a in range(100):\n",
        "  if i < 6:\n",
        "    print(i)\n",
        "    i += 1\n",
        "print(i)"
      ],
      "metadata": {
        "colab": {
          "base_uri": "https://localhost:8080/"
        },
        "id": "NDVZvC7V_FET",
        "outputId": "30b53b57-8022-449f-904b-c9dedf1d0cb3"
      },
      "execution_count": 9,
      "outputs": [
        {
          "output_type": "stream",
          "name": "stdout",
          "text": [
            "1\n",
            "2\n",
            "3\n",
            "4\n",
            "5\n",
            "6\n"
          ]
        }
      ]
    },
    {
      "cell_type": "markdown",
      "source": [
        "## While"
      ],
      "metadata": {
        "id": "sjg13y5S_QgR"
      }
    },
    {
      "cell_type": "code",
      "source": [
        "i = 1\n",
        "while i < 6:\n",
        "  print(i)\n",
        "  i += 1\n",
        "print(i)"
      ],
      "metadata": {
        "colab": {
          "base_uri": "https://localhost:8080/"
        },
        "id": "RQD4Ujy0_OG3",
        "outputId": "99419765-83e6-4a00-f03e-c9379c2d5ffc"
      },
      "execution_count": 10,
      "outputs": [
        {
          "output_type": "stream",
          "name": "stdout",
          "text": [
            "1\n",
            "2\n",
            "3\n",
            "4\n",
            "5\n",
            "6\n"
          ]
        }
      ]
    },
    {
      "cell_type": "markdown",
      "source": [
        "# Containers"
      ],
      "metadata": {
        "id": "JcBqSOCw_pwa"
      }
    },
    {
      "cell_type": "markdown",
      "source": [
        "## List"
      ],
      "metadata": {
        "id": "i30nF9iH_rcL"
      }
    },
    {
      "cell_type": "code",
      "source": [
        "xs = [1, 2, 'abc', True]\n",
        "\n",
        "print(type(xs))\n",
        "for i in xs:\n",
        "  print(i, '\\t', type(i))"
      ],
      "metadata": {
        "colab": {
          "base_uri": "https://localhost:8080/"
        },
        "id": "_iG8623w_Wqf",
        "outputId": "ce370386-ea58-47c1-a611-47bf59d621b1"
      },
      "execution_count": 11,
      "outputs": [
        {
          "output_type": "stream",
          "name": "stdout",
          "text": [
            "<class 'list'>\n",
            "1 \t <class 'int'>\n",
            "2 \t <class 'int'>\n",
            "abc \t <class 'str'>\n",
            "True \t <class 'bool'>\n"
          ]
        }
      ]
    },
    {
      "cell_type": "code",
      "source": [
        "xs[1] = '3'\n",
        "print(xs)"
      ],
      "metadata": {
        "colab": {
          "base_uri": "https://localhost:8080/"
        },
        "id": "H8j9CkbJ_2U4",
        "outputId": "c91da365-b064-4c8c-e181-66817f4960b8"
      },
      "execution_count": 12,
      "outputs": [
        {
          "output_type": "stream",
          "name": "stdout",
          "text": [
            "[1, '3', 'abc', True]\n"
          ]
        }
      ]
    },
    {
      "cell_type": "markdown",
      "source": [
        "## Dictionaries"
      ],
      "metadata": {
        "id": "dfl2zdSc_7oB"
      }
    },
    {
      "cell_type": "code",
      "source": [
        "animals = {'cat': 'cute', 'dog': 'furry'}\n",
        "\n",
        "print(animals.keys())\n",
        "\n",
        "print(animals['cat'])\n",
        "print('cat' in animals)\n",
        "\n",
        "animals['fish'] = 'wet'\n",
        "print(animals)\n",
        "\n",
        "print(animals.get('fish'))\n",
        "\n",
        "del animals['fish']\n",
        "print(animals)"
      ],
      "metadata": {
        "colab": {
          "base_uri": "https://localhost:8080/"
        },
        "id": "OmbWX9AH_5xl",
        "outputId": "5bcd694b-9390-4a96-9a49-b52d256df1c3"
      },
      "execution_count": 13,
      "outputs": [
        {
          "output_type": "stream",
          "name": "stdout",
          "text": [
            "dict_keys(['cat', 'dog'])\n",
            "cute\n",
            "True\n",
            "{'cat': 'cute', 'dog': 'furry', 'fish': 'wet'}\n",
            "wet\n",
            "{'cat': 'cute', 'dog': 'furry'}\n"
          ]
        }
      ]
    },
    {
      "cell_type": "code",
      "source": [
        "animals2 = {'bird': 2, 'cat': 4, 'spider':8}\n",
        "\n",
        "for a in animals2:\n",
        "    print('A %s has %d legs' % (a, animals2[a]))"
      ],
      "metadata": {
        "colab": {
          "base_uri": "https://localhost:8080/"
        },
        "id": "FkeKeMPAAZWa",
        "outputId": "84a506db-6400-405b-ea8f-0d109810ac0a"
      },
      "execution_count": 14,
      "outputs": [
        {
          "output_type": "stream",
          "name": "stdout",
          "text": [
            "A bird has 2 legs\n",
            "A cat has 4 legs\n",
            "A spider has 8 legs\n"
          ]
        }
      ]
    },
    {
      "cell_type": "markdown",
      "source": [
        "## Tuples"
      ],
      "metadata": {
        "id": "mpfzjHsPAohS"
      }
    },
    {
      "cell_type": "code",
      "source": [
        "t = (2, 3, 's')\n",
        "\n",
        "print(type(t))\n",
        "\n",
        "d = {(x, x+1): x for x in range(10)}\n",
        "print(d)\n",
        "print(type(d))"
      ],
      "metadata": {
        "colab": {
          "base_uri": "https://localhost:8080/"
        },
        "id": "v0uwvEVeAgm5",
        "outputId": "e3bf9152-291b-451f-86a7-90a0b113972a"
      },
      "execution_count": 15,
      "outputs": [
        {
          "output_type": "stream",
          "name": "stdout",
          "text": [
            "<class 'tuple'>\n",
            "{(0, 1): 0, (1, 2): 1, (2, 3): 2, (3, 4): 3, (4, 5): 4, (5, 6): 5, (6, 7): 6, (7, 8): 7, (8, 9): 8, (9, 10): 9}\n",
            "<class 'dict'>\n"
          ]
        }
      ]
    },
    {
      "cell_type": "markdown",
      "source": [
        "## Sets"
      ],
      "metadata": {
        "id": "TSX6yKeMA4P5"
      }
    },
    {
      "cell_type": "code",
      "source": [
        "set1 = {2, 3, 4, 5, 6, 2, 3}\n",
        "\n",
        "print(type(set1))\n",
        "for i in set1:\n",
        "  print(i)"
      ],
      "metadata": {
        "colab": {
          "base_uri": "https://localhost:8080/"
        },
        "id": "NhEtC0hUA2Hc",
        "outputId": "ea8dcc44-bd90-486e-f07f-8ab37841fa13"
      },
      "execution_count": 16,
      "outputs": [
        {
          "output_type": "stream",
          "name": "stdout",
          "text": [
            "<class 'set'>\n",
            "2\n",
            "3\n",
            "4\n",
            "5\n",
            "6\n"
          ]
        }
      ]
    },
    {
      "cell_type": "code",
      "source": [
        "# Them 1 item vao set\n",
        "set1.add(20)\n",
        "print(set1)\n",
        "\n",
        "# Xoa ngau nhien mot item khoi set\n",
        "set1.pop()\n",
        "print(set1)\n",
        "\n",
        "# Xoa 1 item trong set\n",
        "set1.remove(3)\n",
        "print(set1)"
      ],
      "metadata": {
        "colab": {
          "base_uri": "https://localhost:8080/"
        },
        "id": "QvssEevIBAB7",
        "outputId": "6aed5fc6-98f4-4da9-85a2-b6d288f462d9"
      },
      "execution_count": 17,
      "outputs": [
        {
          "output_type": "stream",
          "name": "stdout",
          "text": [
            "{2, 3, 4, 5, 6, 20}\n",
            "{3, 4, 5, 6, 20}\n",
            "{4, 5, 6, 20}\n"
          ]
        }
      ]
    },
    {
      "cell_type": "code",
      "source": [
        "animals = {'cat', 'dog', 'fish'}\n",
        "for indx, animal in enumerate(animals):\n",
        "    print('%d: %s' % (indx, animal))"
      ],
      "metadata": {
        "colab": {
          "base_uri": "https://localhost:8080/"
        },
        "id": "HQPdgE1cBSU-",
        "outputId": "929a2186-6d69-46f5-8f8b-a44e6551096d"
      },
      "execution_count": 18,
      "outputs": [
        {
          "output_type": "stream",
          "name": "stdout",
          "text": [
            "0: cat\n",
            "1: dog\n",
            "2: fish\n"
          ]
        }
      ]
    },
    {
      "cell_type": "code",
      "source": [],
      "metadata": {
        "id": "tla85z_xBVVR"
      },
      "execution_count": null,
      "outputs": []
    }
  ]
}