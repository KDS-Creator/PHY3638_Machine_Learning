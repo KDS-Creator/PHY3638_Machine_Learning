{
  "nbformat": 4,
  "nbformat_minor": 0,
  "metadata": {
    "colab": {
      "provenance": [],
      "authorship_tag": "ABX9TyO9H17gN4LZFWfW2M4KwW0c",
      "include_colab_link": true
    },
    "kernelspec": {
      "name": "python3",
      "display_name": "Python 3"
    },
    "language_info": {
      "name": "python"
    }
  },
  "cells": [
    {
      "cell_type": "markdown",
      "metadata": {
        "id": "view-in-github",
        "colab_type": "text"
      },
      "source": [
        "<a href=\"https://colab.research.google.com/github/KDS-Creator/PHY3638_Machine_Learning/blob/main/Intro_Python.ipynb\" target=\"_parent\"><img src=\"https://colab.research.google.com/assets/colab-badge.svg\" alt=\"Open In Colab\"/></a>"
      ]
    },
    {
      "cell_type": "markdown",
      "source": [
        "# Python Introduction"
      ],
      "metadata": {
        "id": "cgwL0vpS8JmV"
      }
    },
    {
      "cell_type": "code",
      "execution_count": 1,
      "metadata": {
        "colab": {
          "base_uri": "https://localhost:8080/"
        },
        "id": "myevUgZF7WdJ",
        "outputId": "c10d6e6b-5b41-4cce-c0fa-675d2e9645aa"
      },
      "outputs": [
        {
          "output_type": "stream",
          "name": "stdout",
          "text": [
            "Hello World\n",
            "gia tri cua y la: 7\n"
          ]
        }
      ],
      "source": [
        "# Here's a simple \"Hello World\" program Python\n",
        "print('Hello World')\n",
        "\n",
        "x = 9\n",
        "y = x - 2\n",
        "\n",
        "print(f'gia tri cua y la: {y}')"
      ]
    },
    {
      "cell_type": "markdown",
      "source": [
        "# Variables and data types"
      ],
      "metadata": {
        "id": "ZQhiDt178p0j"
      }
    },
    {
      "cell_type": "markdown",
      "source": [
        "## Integers"
      ],
      "metadata": {
        "id": "x3_VJVAp8syZ"
      }
    },
    {
      "cell_type": "code",
      "source": [
        "a = 5\n",
        "b = 10\n",
        "\n",
        "print(a, '\\t', type(a))\n",
        "print('{0} {1} {2}'.format(b, '\\t', type(b)))"
      ],
      "metadata": {
        "colab": {
          "base_uri": "https://localhost:8080/"
        },
        "id": "Uaau_D2T8ZZC",
        "outputId": "f7534d81-d24c-43a4-a929-13237c711645"
      },
      "execution_count": 2,
      "outputs": [
        {
          "output_type": "stream",
          "name": "stdout",
          "text": [
            "5 \t <class 'int'>\n",
            "10 \t <class 'int'>\n"
          ]
        }
      ]
    },
    {
      "cell_type": "markdown",
      "source": [
        "## Floats"
      ],
      "metadata": {
        "id": "0fGDxv4s86Kx"
      }
    },
    {
      "cell_type": "code",
      "source": [
        "c = 2.12345\n",
        "d = 9.653\n",
        "e = 3.34367463754\n",
        "\n",
        "print(c, '\\t', type(c))\n",
        "print('%f %s %s' % (d, '\\t', type(d)))\n",
        "print('%.2f %s %s' % (e, '\\t\\t', type(e)))"
      ],
      "metadata": {
        "colab": {
          "base_uri": "https://localhost:8080/"
        },
        "id": "juG_Ddn_85Hp",
        "outputId": "8ded90e0-55bf-40ec-e0f4-3cef35c44dcc"
      },
      "execution_count": 3,
      "outputs": [
        {
          "output_type": "stream",
          "name": "stdout",
          "text": [
            "2.12345 \t <class 'float'>\n",
            "9.653000 \t <class 'float'>\n",
            "3.34 \t\t <class 'float'>\n"
          ]
        }
      ]
    },
    {
      "cell_type": "markdown",
      "source": [
        "## Strings"
      ],
      "metadata": {
        "id": "DgXrFhC59WwB"
      }
    },
    {
      "cell_type": "code",
      "source": [
        "str1 = 'Hom nay'\n",
        "str2 = 'Khong mua'\n",
        "\n",
        "print(str1)\n",
        "print(str2)\n",
        "print(str1 + ' ' + str2)\n",
        "print(str1, type(str1), sep='\\t\\t')"
      ],
      "metadata": {
        "colab": {
          "base_uri": "https://localhost:8080/"
        },
        "id": "oOAX1_8N9RfK",
        "outputId": "b48a0d9a-e95d-48d8-e53a-2bad4e6fc2d5"
      },
      "execution_count": 4,
      "outputs": [
        {
          "output_type": "stream",
          "name": "stdout",
          "text": [
            "Hom nay\n",
            "Khong mua\n",
            "Hom nay Khong mua\n",
            "Hom nay\t\t<class 'str'>\n"
          ]
        }
      ]
    },
    {
      "cell_type": "code",
      "source": [
        "str3 = str1 + ' ' + str2\n",
        "\n",
        "print(str3)\n",
        "print(str3[-1])\n",
        "print(str3[8:13])"
      ],
      "metadata": {
        "colab": {
          "base_uri": "https://localhost:8080/"
        },
        "id": "YJjwbfSX9in7",
        "outputId": "c3bf3e79-c262-4639-bbeb-664eebe255ca"
      },
      "execution_count": 5,
      "outputs": [
        {
          "output_type": "stream",
          "name": "stdout",
          "text": [
            "Hom nay Khong mua\n",
            "a\n",
            "Khong\n"
          ]
        }
      ]
    },
    {
      "cell_type": "markdown",
      "source": [
        "## Boolean"
      ],
      "metadata": {
        "id": "zIxeT7XD9xdb"
      }
    },
    {
      "cell_type": "code",
      "source": [
        "t = True\n",
        "f = False\n",
        "\n",
        "print(type(t))\n",
        "print(t and f)  # Logical AND\n",
        "print(t or f)   # Logical OR\n",
        "print(not f)    # Logical NOT\n",
        "print(t != f)   # Logical XOR"
      ],
      "metadata": {
        "colab": {
          "base_uri": "https://localhost:8080/"
        },
        "id": "IClLNc7_9qvD",
        "outputId": "cbce550f-b0d8-499e-95a0-2e8cbaef28c0"
      },
      "execution_count": 6,
      "outputs": [
        {
          "output_type": "stream",
          "name": "stdout",
          "text": [
            "<class 'bool'>\n",
            "False\n",
            "True\n",
            "True\n",
            "True\n"
          ]
        }
      ]
    },
    {
      "cell_type": "markdown",
      "source": [
        "# Control flow statement"
      ],
      "metadata": {
        "id": "m2Wyk3NA-hxZ"
      }
    },
    {
      "cell_type": "markdown",
      "source": [
        "## If - Else"
      ],
      "metadata": {
        "id": "87LsFcRF-lpu"
      }
    },
    {
      "cell_type": "code",
      "source": [
        "a = float(input())\n",
        "\n",
        "if a < 5:\n",
        "  print('Hoc luc Yeu')\n",
        "elif a >= 5.0 and a < 6.5:\n",
        "  print('Hoc luc Trung Binh')\n",
        "elif a >= 6.5 and a < 8.0:\n",
        "  print('Hoc luc Kha')\n",
        "else:\n",
        "  print('Hoc luc Gioi')"
      ],
      "metadata": {
        "colab": {
          "base_uri": "https://localhost:8080/"
        },
        "id": "4k1rFTal-C6g",
        "outputId": "e30db630-125e-4f67-a146-2b73704d5c16"
      },
      "execution_count": 7,
      "outputs": [
        {
          "output_type": "stream",
          "name": "stdout",
          "text": [
            "6\n",
            "Hoc luc Trung Binh\n"
          ]
        }
      ]
    },
    {
      "cell_type": "markdown",
      "source": [
        "## For"
      ],
      "metadata": {
        "id": "n5r3XyYb-8WT"
      }
    },
    {
      "cell_type": "code",
      "source": [
        "s = 0\n",
        "for i in range(5):\n",
        "  print(i)\n",
        "  s += i\n",
        "print(\"Gia tri cua s la:\",s)"
      ],
      "metadata": {
        "colab": {
          "base_uri": "https://localhost:8080/"
        },
        "id": "d9z31fq9-6aQ",
        "outputId": "c56e6a5c-7d56-4df7-f33c-46f73886a33f"
      },
      "execution_count": 8,
      "outputs": [
        {
          "output_type": "stream",
          "name": "stdout",
          "text": [
            "0\n",
            "1\n",
            "2\n",
            "3\n",
            "4\n",
            "Gia tri cua s la: 10\n"
          ]
        }
      ]
    },
    {
      "cell_type": "code",
      "source": [
        "i = 1\n",
        "for a in range(100):\n",
        "  if i < 6:\n",
        "    print(i)\n",
        "    i += 1\n",
        "print(i)"
      ],
      "metadata": {
        "colab": {
          "base_uri": "https://localhost:8080/"
        },
        "id": "NDVZvC7V_FET",
        "outputId": "30b53b57-8022-449f-904b-c9dedf1d0cb3"
      },
      "execution_count": 9,
      "outputs": [
        {
          "output_type": "stream",
          "name": "stdout",
          "text": [
            "1\n",
            "2\n",
            "3\n",
            "4\n",
            "5\n",
            "6\n"
          ]
        }
      ]
    },
    {
      "cell_type": "markdown",
      "source": [
        "## While"
      ],
      "metadata": {
        "id": "sjg13y5S_QgR"
      }
    },
    {
      "cell_type": "code",
      "source": [
        "i = 1\n",
        "while i < 6:\n",
        "  print(i)\n",
        "  i += 1\n",
        "print(i)"
      ],
      "metadata": {
        "colab": {
          "base_uri": "https://localhost:8080/"
        },
        "id": "RQD4Ujy0_OG3",
        "outputId": "99419765-83e6-4a00-f03e-c9379c2d5ffc"
      },
      "execution_count": 10,
      "outputs": [
        {
          "output_type": "stream",
          "name": "stdout",
          "text": [
            "1\n",
            "2\n",
            "3\n",
            "4\n",
            "5\n",
            "6\n"
          ]
        }
      ]
    },
    {
      "cell_type": "code",
      "source": [],
      "metadata": {
        "id": "_iG8623w_Wqf"
      },
      "execution_count": null,
      "outputs": []
    }
  ]
}